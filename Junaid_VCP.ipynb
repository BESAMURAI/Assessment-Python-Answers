{
  "nbformat": 4,
  "nbformat_minor": 0,
  "metadata": {
    "colab": {
      "provenance": [],
      "authorship_tag": "ABX9TyOWMSqjEZtVmLPDjZQzQ3Wf",
      "include_colab_link": true
    },
    "kernelspec": {
      "name": "python3",
      "display_name": "Python 3"
    },
    "language_info": {
      "name": "python"
    }
  },
  "cells": [
    {
      "cell_type": "markdown",
      "metadata": {
        "id": "view-in-github",
        "colab_type": "text"
      },
      "source": [
        "<a href=\"https://colab.research.google.com/github/BESAMURAI/Assessment-Python-Answers/blob/main/Junaid_VCP.ipynb\" target=\"_parent\"><img src=\"https://colab.research.google.com/assets/colab-badge.svg\" alt=\"Open In Colab\"/></a>"
      ]
    },
    {
      "cell_type": "code",
      "source": [
        "'''Write a Python function to accept a string value from the user and display the count of each character in that string.'''\n",
        "string=input(\"Enter a string:\")\n",
        "def countofcharacters(s):\n",
        "    charscount = {}\n",
        "    for char in s:\n",
        "        if char in charscount:\n",
        "            charscount[char]+=1\n",
        "        else:\n",
        "            charscount[char]=1\n",
        "    return charscount\n",
        "ans=countofcharacters(string)\n",
        "print(ans)"
      ],
      "metadata": {
        "colab": {
          "base_uri": "https://localhost:8080/"
        },
        "id": "vu9RmK8QRHn1",
        "outputId": "a91ed16f-8a30-40ce-f86e-6e4146967238"
      },
      "execution_count": 40,
      "outputs": [
        {
          "output_type": "stream",
          "name": "stdout",
          "text": [
            "Enter a string:hello\n",
            "{'h': 1, 'e': 1, 'l': 2, 'o': 1}\n"
          ]
        }
      ]
    },
    {
      "cell_type": "code",
      "source": [
        "'''Write a Python function to find the maximum of three numbers'''\n",
        "a=int(input(\"Enter a number:\"))\n",
        "b=int(input(\"Enter a number:\"))\n",
        "c=int(input(\"Enter a number:\"))\n",
        "def max(a,b,c):\n",
        "  if a>b and c:\n",
        "    print(\"The maximum is\",a)\n",
        "  elif b>a and c:\n",
        "    print(\"The maximum is\",b)\n",
        "  elif c>a and b:\n",
        "    print(\"The maximum is\",c)\n",
        "print(max(a,b,c))"
      ],
      "metadata": {
        "colab": {
          "base_uri": "https://localhost:8080/"
        },
        "id": "zwai89TxLQi_",
        "outputId": "2ab16ae0-7f4d-4bab-ca9a-a5ef4154e92d"
      },
      "execution_count": 18,
      "outputs": [
        {
          "output_type": "stream",
          "name": "stdout",
          "text": [
            "Enter a number:9\n",
            "Enter a number:4\n",
            "Enter a number:7\n",
            "The maximum is 9\n",
            "None\n"
          ]
        }
      ]
    },
    {
      "cell_type": "code",
      "source": [
        "'''Write a Python function called exponent(base,exp) that returns an integer value of base raised to the power of exp'''\n",
        "def exponent(base,exp):\n",
        "  m=base**exp\n",
        "  print(\"The value is:\",m)\n",
        "a=int(input(\"Enter the base:\"))\n",
        "b=int(input(\"Enter the exponent:\"))\n",
        "exponent(a,b)"
      ],
      "metadata": {
        "colab": {
          "base_uri": "https://localhost:8080/"
        },
        "id": "52zN9NdFLQ2R",
        "outputId": "7f1cabe3-59f1-4e6d-d821-de376ce406bd"
      },
      "execution_count": 16,
      "outputs": [
        {
          "output_type": "stream",
          "name": "stdout",
          "text": [
            "Enter the base:4\n",
            "Enter the exponent:2\n",
            "The value is: 16\n"
          ]
        }
      ]
    },
    {
      "cell_type": "code",
      "source": [
        "'''Write a Python function that takes a positive integer and returns the sum of the cube of all the positive integers smaller than the specified number.'''\n",
        "def cubes(n):\n",
        "    return sum(i**3 for i in range(1, n))\n",
        "while True:\n",
        "  a=int(input(\"Enter the positive integer:\"))\n",
        "  if a<=0:\n",
        "    print(\"Invalid input, please try again\")\n",
        "  else:\n",
        "    break\n",
        "f=cubes(a)\n",
        "print(f)"
      ],
      "metadata": {
        "colab": {
          "base_uri": "https://localhost:8080/"
        },
        "id": "XZLY_rpfNxKP",
        "outputId": "ba8bb6dc-aecf-4da6-eb32-7f7a18c5292e"
      },
      "execution_count": 67,
      "outputs": [
        {
          "output_type": "stream",
          "name": "stdout",
          "text": [
            "Enter the positive integer:3\n",
            "9\n"
          ]
        }
      ]
    },
    {
      "cell_type": "code",
      "source": [
        "'''Write a Python program which iterates from 1 to 10. For multiples of 2, print “Fizz” instead of the number and for the multiples of 5, print “Buzz”. For numbers which are multiples of both 2 and 5, print “FizzBuzz”.'''\n",
        "for i in range(1,11):\n",
        "  if i%2!=0 and i%5!=0:\n",
        "    print(i)\n",
        "  elif i%2==0 and i%5!=0:\n",
        "    print(\"Fizz\")\n",
        "  elif i%5==0 and i%2!=0:\n",
        "    print(\"Buzz\")\n",
        "  elif i%2==0 and i%5==0:\n",
        "    print(\"FizzBuzz\")"
      ],
      "metadata": {
        "colab": {
          "base_uri": "https://localhost:8080/"
        },
        "id": "yMvS4-T9U3rM",
        "outputId": "149a1a69-9763-4f84-cefe-be53aa270600"
      },
      "execution_count": 54,
      "outputs": [
        {
          "output_type": "stream",
          "name": "stdout",
          "text": [
            "1\n",
            "Fizz\n",
            "3\n",
            "Fizz\n",
            "Buzz\n",
            "Fizz\n",
            "7\n",
            "Fizz\n",
            "9\n",
            "FizzBuzz\n"
          ]
        }
      ]
    },
    {
      "cell_type": "code",
      "source": [
        "'''Write a Python function to find the most frequent item in a list of numbers.'''\n",
        "a=[4,5,5,4,4,3]\n",
        "from collections import Counter\n",
        "def frequent(n):\n",
        "    counter=Counter(n)\n",
        "    return counter.most_common(1)[0][0]\n",
        "print(\"The freuqent item in this list is:\",frequent(a))"
      ],
      "metadata": {
        "colab": {
          "base_uri": "https://localhost:8080/"
        },
        "id": "ffvJoz8-Yg-l",
        "outputId": "b21f0c22-77e5-48aa-b99c-0c879e2b3c83"
      },
      "execution_count": 72,
      "outputs": [
        {
          "output_type": "stream",
          "name": "stdout",
          "text": [
            "The freuqent item in this list is: 4\n"
          ]
        }
      ]
    },
    {
      "cell_type": "code",
      "source": [
        "'''Write a Python function to find the sum of squares of the numbers in a list.'''\n",
        "c=[5,3,2,4]\n",
        "def squares(n):\n",
        "    return sum(num**2 for num in n)\n",
        "print(squares(c))"
      ],
      "metadata": {
        "colab": {
          "base_uri": "https://localhost:8080/"
        },
        "id": "MdqH5yBnh7qE",
        "outputId": "4a4781c9-d713-43b1-a4d7-fb4b3c504b62"
      },
      "execution_count": 97,
      "outputs": [
        {
          "output_type": "stream",
          "name": "stdout",
          "text": [
            "54\n"
          ]
        }
      ]
    },
    {
      "cell_type": "code",
      "source": [
        "'''Write a Python program using for loop that will iterate from 1 to 15. For each iteration, check if the current number is odd or even, and display the message to the screen as odd or even.'''\n",
        "for i in range(1,16):\n",
        "  if i%2==0:\n",
        "    print(i,\"- Even\")\n",
        "  else:\n",
        "    print(i,\"- Odd\")"
      ],
      "metadata": {
        "colab": {
          "base_uri": "https://localhost:8080/"
        },
        "id": "8WAMHjOfmZe0",
        "outputId": "586935bd-3c4a-4200-db45-f440c8d518f6"
      },
      "execution_count": 100,
      "outputs": [
        {
          "output_type": "stream",
          "name": "stdout",
          "text": [
            "1 - Odd\n",
            "2 - Even\n",
            "3 - Odd\n",
            "4 - Even\n",
            "5 - Odd\n",
            "6 - Even\n",
            "7 - Odd\n",
            "8 - Even\n",
            "9 - Odd\n",
            "10 - Even\n",
            "11 - Odd\n",
            "12 - Even\n",
            "13 - Odd\n",
            "14 - Even\n",
            "15 - Odd\n"
          ]
        }
      ]
    },
    {
      "cell_type": "code",
      "source": [
        "'''Write a Python function to convert temperatures to and from Celsius Fahrenheit. [Formula: c/5=f-32/9 where c=temperature in Celsius and f= temperature in Fahrenheit.]'''\n",
        "def convert_temperature():\n",
        "    c=input(\"Select conversion:\\n1. Celsius to Fahrenheit\\n2. Fahrenheit to Celsius\\nEnter your choice (1 or 2):\")\n",
        "    f=float(input(\"Enter temperature:\"))\n",
        "    if c==\"1\":\n",
        "      print(f\"{f}°C is {(f * 9/5) + 32}°F\")\n",
        "    elif c==\"2\":\n",
        "      print(f\"{f}°F is {(f - 32) * 5/9}°C\")\n",
        "    else:\n",
        "        print(\"Choice in not valid\")\n",
        "convert_temperature()"
      ],
      "metadata": {
        "colab": {
          "base_uri": "https://localhost:8080/"
        },
        "id": "oG-UtoBbm-Vw",
        "outputId": "045485a2-67be-4acd-ec4e-f3217722b0b0"
      },
      "execution_count": 104,
      "outputs": [
        {
          "output_type": "stream",
          "name": "stdout",
          "text": [
            "Select conversion:\n",
            "1. Celsius to Fahrenheit\n",
            "2. Fahrenheit to Celsius\n",
            "Enter your choice (1 or 2):2\n",
            "Enter temperature:55.7\n",
            "55.7°F is 13.166666666666668°C\n"
          ]
        }
      ]
    },
    {
      "cell_type": "code",
      "source": [
        "'''Write a Python function to calculate the factorial of a number (a non negative integer). The function accepts the number as an argument'''\n",
        "import math\n",
        "def factorial(n):\n",
        "    if n<0:\n",
        "        return None\n",
        "    else:\n",
        "        return math.gamma(n+1)\n",
        "n=int(input(\"Enter a non-negative integer:\"))\n",
        "factorial=factorial(n)\n",
        "if factorial is not None:\n",
        "    print(\"The factorial of\",n,\"is\",factorial)\n",
        "else:\n",
        "    print(\"Negative numbers do not count\")"
      ],
      "metadata": {
        "colab": {
          "base_uri": "https://localhost:8080/"
        },
        "id": "IIdlyu5PujtW",
        "outputId": "57da7a99-c8a5-42af-9413-ba8caf597a76"
      },
      "execution_count": 132,
      "outputs": [
        {
          "output_type": "stream",
          "name": "stdout",
          "text": [
            "Enter a non-negative integer:5\n",
            "The factorial of 5 is 120.0\n"
          ]
        }
      ]
    },
    {
      "cell_type": "code",
      "source": [
        "'''Case Study: Grade Calculator'''\n",
        "def calculate_final_grade():\n",
        "    name=input(\"Enter student's name:\")\n",
        "    assessments_num=int(input(\"Enter the number of assessments:\"))\n",
        "    assessment_types=[]\n",
        "    weights=[]\n",
        "    avg=[]\n",
        "    for i in range(assessments_num):\n",
        "        assessment_type=input(f\"Enter assessment type {i + 1}:\")\n",
        "        assessment_types.append(assessment_type)\n",
        "        weight=float(input(f\"Enter weight for {assessment_type} (percentage): \"))\n",
        "        weights.append(weight)\n",
        "        total_score=0\n",
        "        num_of_assessments=int(input(f\"Enter number of {assessment_type}:\"))\n",
        "        for j in range(num_of_assessments):\n",
        "            score=float(input(f\"Enter score for {assessment_type} {j + 1}:\"))\n",
        "            total_score+=score\n",
        "        average_score=total_score/num_of_assessments\n",
        "        avg.append(average_score)\n",
        "    weighted_sum=sum([w * s for w, s in zip(weights,avg)])\n",
        "    total_weight=sum(weights)\n",
        "    final_grade=weighted_sum/total_weight\n",
        "    letter_grade=determine_letter_grade(final_grade)\n",
        "    print(\"\\n--- Final Grade Calculation ---\")\n",
        "    print(\"Student Name:\",name)\n",
        "    for i in range(assessments_num):\n",
        "      print(f\"Weighted average score for {assessment_types[i]}: {avg[i]}\")\n",
        "    print(\"Final Grade:\",final_grade)\n",
        "    print(\"Letter Grade:\",letter_grade)\n",
        "def determine_letter_grade(final_grade):\n",
        "    if final_grade>=90:\n",
        "      return 'A'\n",
        "    elif final_grade>=80:\n",
        "      return 'B'\n",
        "    elif final_grade>=70:\n",
        "      return 'C'\n",
        "    elif final_grade>=60:\n",
        "      return 'D'\n",
        "    else:\n",
        "      return 'F'\n",
        "calculate_final_grade()"
      ],
      "metadata": {
        "colab": {
          "base_uri": "https://localhost:8080/"
        },
        "id": "NHedPrzfrrVF",
        "outputId": "c9e73566-a7ff-4432-dc30-0f3203a38960"
      },
      "execution_count": 142,
      "outputs": [
        {
          "output_type": "stream",
          "name": "stdout",
          "text": [
            "Enter student's name:June\n",
            "Enter the number of assessments:2\n",
            "Enter assessment type 1:Quiz\n",
            "Enter weight for Quiz (percentage): 25\n",
            "Enter number of Quiz:2\n",
            "Enter score for Quiz 1:20\n",
            "Enter score for Quiz 2:25\n",
            "Enter assessment type 2:Exam\n",
            "Enter weight for Exam (percentage): 75\n",
            "Enter number of Exam:2\n",
            "Enter score for Exam 1:100\n",
            "Enter score for Exam 2:95\n",
            "\n",
            "--- Final Grade Calculation ---\n",
            "Student Name: June\n",
            "Weighted average score for Quiz: 22.5\n",
            "Weighted average score for Exam: 97.5\n",
            "Final Grade: 78.75\n",
            "Letter Grade: C\n"
          ]
        }
      ]
    }
  ]
}